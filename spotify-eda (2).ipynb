{
 "cells": [
  {
   "cell_type": "markdown",
   "id": "93794051",
   "metadata": {
    "papermill": {
     "duration": 0.013362,
     "end_time": "2021-10-17T02:19:05.894048",
     "exception": false,
     "start_time": "2021-10-17T02:19:05.880686",
     "status": "completed"
    },
    "tags": []
   },
   "source": []
  },
  
  {
   "cell_type": "markdown",
   "id": "0f678775",
   "metadata": {
    "papermill": {
     "duration": 0.01192,
     "end_time": "2021-10-17T02:19:05.919287",
     "exception": false,
     "start_time": "2021-10-17T02:19:05.907367",
     "status": "completed"
    },
    "tags": []
   },
   "source": [
    "**Importing the libraries**"
   ]
  },
  {
   "cell_type": "code",
   "execution_count": 1,
   "id": "41e2af00",
   "metadata": {
    "execution": {
     "iopub.execute_input": "2021-10-17T02:19:05.954555Z",
     "iopub.status.busy": "2021-10-17T02:19:05.953845Z",
     "iopub.status.idle": "2021-10-17T02:19:06.794421Z",
     "shell.execute_reply": "2021-10-17T02:19:06.793738Z",
     "shell.execute_reply.started": "2021-10-17T02:18:25.358549Z"
    },
    "papermill": {
     "duration": 0.861866,
     "end_time": "2021-10-17T02:19:06.794595",
     "exception": false,
     "start_time": "2021-10-17T02:19:05.932729",
     "status": "completed"
    },
    "tags": []
   },
   "outputs": [],
   "source": [
    "import pandas as pd\n",
    "import numpy as np \n",
    "\n",
    "import seaborn as sns\n",
    "import matplotlib.pyplot as plt"
   ]
  },
  {
   "cell_type": "markdown",
   "id": "fdedcbcf",
   "metadata": {
    "papermill": {
     "duration": 0.0118,
     "end_time": "2021-10-17T02:19:06.818513",
     "exception": false,
     "start_time": "2021-10-17T02:19:06.806713",
     "status": "completed"
    },
    "tags": []
   },
   "source": [
    "**Reading the dataset**"
   ]
  },
  {
   "cell_type": "code",
   "execution_count": 2,
   "id": "d3d2301b",
   "metadata": {
    "execution": {
     "iopub.execute_input": "2021-10-17T02:19:06.845858Z",
     "iopub.status.busy": "2021-10-17T02:19:06.845249Z",
     "iopub.status.idle": "2021-10-17T02:19:06.882955Z",
     "shell.execute_reply": "2021-10-17T02:19:06.881870Z",
     "shell.execute_reply.started": "2021-10-17T02:18:26.341214Z"
    },
    "papermill": {
     "duration": 0.052551,
     "end_time": "2021-10-17T02:19:06.883110",
     "exception": false,
     "start_time": "2021-10-17T02:19:06.830559",
     "status": "completed"
    },
    "tags": []
   },
   "outputs": [],
   "source": [
    "df = pd.read_csv('/kaggle/input/spotify-artist-track-data/spotify_data.csv')"
   ]
  },
  {
   "cell_type": "code",
   "execution_count": 3,
   "id": "591d4ced",
   "metadata": {
    "execution": {
     "iopub.execute_input": "2021-10-17T02:19:06.915981Z",
     "iopub.status.busy": "2021-10-17T02:19:06.915293Z",
     "iopub.status.idle": "2021-10-17T02:19:06.927485Z",
     "shell.execute_reply": "2021-10-17T02:19:06.927917Z",
     "shell.execute_reply.started": "2021-10-17T02:18:26.380387Z"
    },
    "papermill": {
     "duration": 0.032878,
     "end_time": "2021-10-17T02:19:06.928086",
     "exception": false,
     "start_time": "2021-10-17T02:19:06.895208",
     "status": "completed"
    },
    "tags": []
   },
   "outputs": [
    {
     "data": {
      "text/html": [
       "<div>\n",
       "<style scoped>\n",
       "    .dataframe tbody tr th:only-of-type {\n",
       "        vertical-align: middle;\n",
       "    }\n",
       "\n",
       "    .dataframe tbody tr th {\n",
       "        vertical-align: top;\n",
       "    }\n",
       "\n",
       "    .dataframe thead th {\n",
       "        text-align: right;\n",
       "    }\n",
       "</style>\n",
       "<table border=\"1\" class=\"dataframe\">\n",
       "  <thead>\n",
       "    <tr style=\"text-align: right;\">\n",
       "      <th></th>\n",
       "      <th>artist_name</th>\n",
       "      <th>track_name</th>\n",
       "      <th>track_id</th>\n",
       "      <th>popularity</th>\n",
       "    </tr>\n",
       "  </thead>\n",
       "  <tbody>\n",
       "    <tr>\n",
       "      <th>0</th>\n",
       "      <td>Juice WRLD</td>\n",
       "      <td>All Girls Are The Same</td>\n",
       "      <td>4VXIryQMWpIdGgYR4TrjT1</td>\n",
       "      <td>83</td>\n",
       "    </tr>\n",
       "    <tr>\n",
       "      <th>1</th>\n",
       "      <td>Schoolgirl Byebye</td>\n",
       "      <td>Year,2015</td>\n",
       "      <td>0UsmyJDsst2xhX1ZiFF3JW</td>\n",
       "      <td>25</td>\n",
       "    </tr>\n",
       "    <tr>\n",
       "      <th>2</th>\n",
       "      <td>Juice WRLD</td>\n",
       "      <td>Lucid Dreams</td>\n",
       "      <td>285pBltuF7vW8TeWk8hdRR</td>\n",
       "      <td>84</td>\n",
       "    </tr>\n",
       "    <tr>\n",
       "      <th>3</th>\n",
       "      <td>Fleetwood Mac</td>\n",
       "      <td>Rhiannon (Will You Ever Win) - 2018 Remaster</td>\n",
       "      <td>4fbwTO3DJ2qryMddov9RbB</td>\n",
       "      <td>49</td>\n",
       "    </tr>\n",
       "    <tr>\n",
       "      <th>4</th>\n",
       "      <td>Joji</td>\n",
       "      <td>SLOW DANCING IN THE DARK</td>\n",
       "      <td>0rKtyWc8bvkriBthvHKY8d</td>\n",
       "      <td>83</td>\n",
       "    </tr>\n",
       "  </tbody>\n",
       "</table>\n",
       "</div>"
      ],
      "text/plain": [
       "         artist_name                                    track_name  \\\n",
       "0         Juice WRLD                        All Girls Are The Same   \n",
       "1  Schoolgirl Byebye                                     Year,2015   \n",
       "2         Juice WRLD                                  Lucid Dreams   \n",
       "3      Fleetwood Mac  Rhiannon (Will You Ever Win) - 2018 Remaster   \n",
       "4               Joji                      SLOW DANCING IN THE DARK   \n",
       "\n",
       "                 track_id  popularity  \n",
       "0  4VXIryQMWpIdGgYR4TrjT1          83  \n",
       "1  0UsmyJDsst2xhX1ZiFF3JW          25  \n",
       "2  285pBltuF7vW8TeWk8hdRR          84  \n",
       "3  4fbwTO3DJ2qryMddov9RbB          49  \n",
       "4  0rKtyWc8bvkriBthvHKY8d          83  "
      ]
     },
     "execution_count": 3,
     "metadata": {},
     "output_type": "execute_result"
    }
   ],
   "source": [
    "df.head()"
   ]
  },
  {
   "cell_type": "markdown",
   "id": "879dd012",
   "metadata": {
    "papermill": {
     "duration": 0.012191,
     "end_time": "2021-10-17T02:19:06.953144",
     "exception": false,
     "start_time": "2021-10-17T02:19:06.940953",
     "status": "completed"
    },
    "tags": []
   },
   "source": [
    "**Getting to know the data**"
   ]
  },
  {
   "cell_type": "code",
   "execution_count": 4,
   "id": "14507b3a",
   "metadata": {
    "execution": {
     "iopub.execute_input": "2021-10-17T02:19:06.983572Z",
     "iopub.status.busy": "2021-10-17T02:19:06.982672Z",
     "iopub.status.idle": "2021-10-17T02:19:07.004938Z",
     "shell.execute_reply": "2021-10-17T02:19:07.005343Z",
     "shell.execute_reply.started": "2021-10-17T02:18:26.406260Z"
    },
    "papermill": {
     "duration": 0.038902,
     "end_time": "2021-10-17T02:19:07.005536",
     "exception": false,
     "start_time": "2021-10-17T02:19:06.966634",
     "status": "completed"
    },
    "tags": []
   },
   "outputs": [
    {
     "name": "stdout",
     "output_type": "stream",
     "text": [
      "<class 'pandas.core.frame.DataFrame'>\n",
      "RangeIndex: 4000 entries, 0 to 3999\n",
      "Data columns (total 4 columns):\n",
      " #   Column       Non-Null Count  Dtype \n",
      "---  ------       --------------  ----- \n",
      " 0   artist_name  4000 non-null   object\n",
      " 1   track_name   4000 non-null   object\n",
      " 2   track_id     4000 non-null   object\n",
      " 3   popularity   4000 non-null   int64 \n",
      "dtypes: int64(1), object(3)\n",
      "memory usage: 125.1+ KB\n"
     ]
    }
   ],
   "source": [
    "df.info()"
   ]
  },
  {
   "cell_type": "code",
   "execution_count": 5,
   "id": "7355ca24",
   "metadata": {
    "execution": {
     "iopub.execute_input": "2021-10-17T02:19:07.039033Z",
     "iopub.status.busy": "2021-10-17T02:19:07.038251Z",
     "iopub.status.idle": "2021-10-17T02:19:07.052576Z",
     "shell.execute_reply": "2021-10-17T02:19:07.053088Z",
     "shell.execute_reply.started": "2021-10-17T02:18:26.435774Z"
    },
    "papermill": {
     "duration": 0.033949,
     "end_time": "2021-10-17T02:19:07.053260",
     "exception": false,
     "start_time": "2021-10-17T02:19:07.019311",
     "status": "completed"
    },
    "tags": []
   },
   "outputs": [
    {
     "data": {
      "text/html": [
       "<div>\n",
       "<style scoped>\n",
       "    .dataframe tbody tr th:only-of-type {\n",
       "        vertical-align: middle;\n",
       "    }\n",
       "\n",
       "    .dataframe tbody tr th {\n",
       "        vertical-align: top;\n",
       "    }\n",
       "\n",
       "    .dataframe thead th {\n",
       "        text-align: right;\n",
       "    }\n",
       "</style>\n",
       "<table border=\"1\" class=\"dataframe\">\n",
       "  <thead>\n",
       "    <tr style=\"text-align: right;\">\n",
       "      <th></th>\n",
       "      <th>count</th>\n",
       "      <th>mean</th>\n",
       "      <th>std</th>\n",
       "      <th>min</th>\n",
       "      <th>25%</th>\n",
       "      <th>50%</th>\n",
       "      <th>75%</th>\n",
       "      <th>max</th>\n",
       "    </tr>\n",
       "  </thead>\n",
       "  <tbody>\n",
       "    <tr>\n",
       "      <th>popularity</th>\n",
       "      <td>4000.0</td>\n",
       "      <td>51.1095</td>\n",
       "      <td>31.08038</td>\n",
       "      <td>0.0</td>\n",
       "      <td>27.0</td>\n",
       "      <td>63.0</td>\n",
       "      <td>80.0</td>\n",
       "      <td>94.0</td>\n",
       "    </tr>\n",
       "  </tbody>\n",
       "</table>\n",
       "</div>"
      ],
      "text/plain": [
       "             count     mean       std  min   25%   50%   75%   max\n",
       "popularity  4000.0  51.1095  31.08038  0.0  27.0  63.0  80.0  94.0"
      ]
     },
     "execution_count": 5,
     "metadata": {},
     "output_type": "execute_result"
    }
   ],
   "source": [
    "df.describe().transpose()"
   ]
  },
  {
   "cell_type": "code",
   "execution_count": 6,
   "id": "c87cb23c",
   "metadata": {
    "execution": {
     "iopub.execute_input": "2021-10-17T02:19:07.089811Z",
     "iopub.status.busy": "2021-10-17T02:19:07.081938Z",
     "iopub.status.idle": "2021-10-17T02:19:07.472348Z",
     "shell.execute_reply": "2021-10-17T02:19:07.472801Z",
     "shell.execute_reply.started": "2021-10-17T02:18:26.462614Z"
    },
    "papermill": {
     "duration": 0.406738,
     "end_time": "2021-10-17T02:19:07.472979",
     "exception": false,
     "start_time": "2021-10-17T02:19:07.066241",
     "status": "completed"
    },
    "tags": []
   },
   "outputs": [
    {
     "data": {
      "text/plain": [
       "Text(0.5, 1.0, 'Most Popular 15 Artists')"
      ]
     },
     "execution_count": 6,
     "metadata": {},
     "output_type": "execute_result"
    },
    {
     "data": {
      "image/png": "[encoded data removed]",
      "text/plain": [
       "<Figure size 432x648 with 1 Axes>"
      ]
     },
     "metadata": {},
     "output_type": "display_data"
    }
   ],
   "source": [
    "sns.set_style('whitegrid')\n",
    "\n",
    "plt.figure(figsize=(6,9))\n",
    "\n",
    "top15_artist = df.groupby('artist_name')['popularity'].mean().sort_values(ascending=False).head(15).reset_index()\n",
    "\n",
    "sns.barplot(x=top15_artist['popularity'], y=top15_artist['artist_name'], palette='coolwarm')\n",
    "\n",
    "plt.xlim(0,120)\n",
    "\n",
    "plt.title('Most Popular 15 Artists')"
   ]
  },
  {
   "cell_type": "code",
   "execution_count": 7,
   "id": "27d3a09f",
   "metadata": {
    "execution": {
     "iopub.execute_input": "2021-10-17T02:19:07.510271Z",
     "iopub.status.busy": "2021-10-17T02:19:07.509045Z",
     "iopub.status.idle": "2021-10-17T02:19:07.893128Z",
     "shell.execute_reply": "2021-10-17T02:19:07.893596Z",
     "shell.execute_reply.started": "2021-10-17T02:18:26.947866Z"
    },
    "papermill": {
     "duration": 0.406055,
     "end_time": "2021-10-17T02:19:07.893777",
     "exception": false,
     "start_time": "2021-10-17T02:19:07.487722",
     "status": "completed"
    },
    "tags": []
   },
   "outputs": [
    {
     "data": {
      "text/plain": [
       "Text(0.5, 1.0, 'Most popular 15 tracks')"
      ]
     },
     "execution_count": 7,
     "metadata": {},
     "output_type": "execute_result"
    },
    {
     "data": {
      "image/png": "[encoded data removed]",
      "text/plain": [
       "<Figure size 432x648 with 1 Axes>"
      ]
     },
     "metadata": {},
     "output_type": "display_data"
    }
   ],
   "source": [
    "plt.figure(figsize=(6,9))\n",
    "\n",
    "top15_track = df.groupby('track_name')['popularity'].mean().sort_values(ascending=False).head(15).reset_index()\n",
    "\n",
    "\n",
    "sns.barplot(x=top15_track['popularity'], y=top15_track['track_name'], palette='coolwarm')\n",
    "\n",
    "plt.xlim(0,120)\n",
    "\n",
    "plt.title('Most popular 15 tracks')"
   ]
  },
  {
   "cell_type": "code",
   "execution_count": 8,
   "id": "4318bfa0",
   "metadata": {
    "execution": {
     "iopub.execute_input": "2021-10-17T02:19:07.932264Z",
     "iopub.status.busy": "2021-10-17T02:19:07.931316Z",
     "iopub.status.idle": "2021-10-17T02:19:08.358034Z",
     "shell.execute_reply": "2021-10-17T02:19:08.358497Z",
     "shell.execute_reply.started": "2021-10-17T02:18:27.397943Z"
    },
    "papermill": {
     "duration": 0.448652,
     "end_time": "2021-10-17T02:19:08.358668",
     "exception": false,
     "start_time": "2021-10-17T02:19:07.910016",
     "status": "completed"
    },
    "tags": []
   },
   "outputs": [
    {
     "name": "stderr",
     "output_type": "stream",
     "text": [
      "/opt/conda/lib/python3.7/site-packages/seaborn/distributions.py:2619: FutureWarning: `distplot` is a deprecated function and will be removed in a future version. Please adapt your code to use either `displot` (a figure-level function with similar flexibility) or `histplot` (an axes-level function for histograms).\n",
      "  warnings.warn(msg, FutureWarning)\n"
     ]
    },
    {
     "data": {
      "text/plain": [
       "Text(0.5, 1.0, 'Popularity Distribution')"
      ]
     },
     "execution_count": 8,
     "metadata": {},
     "output_type": "execute_result"
    },
    {
     "data": {
      "image/png": "[encoded data removed]",
      "text/plain": [
       "<Figure size 576x288 with 1 Axes>"
      ]
     },
     "metadata": {},
     "output_type": "display_data"
    }
   ],
   "source": [
    "plt.figure(figsize=(8,4))\n",
    "sns.distplot(df['popularity'],kde=True,bins=40)\n",
    "\n",
    "plt.xlim(0,120)\n",
    "\n",
    "plt.title('Popularity Distribution')"
   ]
  },
  {
   "cell_type": "markdown",
   "id": "92f9f4b2",
   "metadata": {
    "papermill": {
     "duration": 0.01703,
     "end_time": "2021-10-17T02:19:08.393293",
     "exception": false,
     "start_time": "2021-10-17T02:19:08.376263",
     "status": "completed"
    },
    "tags": []
   },
   "source": [
    "**Number of Artist/Track Ratings**"
   ]
  },
  {
   "cell_type": "code",
   "execution_count": 9,
   "id": "4a00b89a",
   "metadata": {
    "execution": {
     "iopub.execute_input": "2021-10-17T02:19:08.435209Z",
     "iopub.status.busy": "2021-10-17T02:19:08.434540Z",
     "iopub.status.idle": "2021-10-17T02:19:08.438260Z",
     "shell.execute_reply": "2021-10-17T02:19:08.438720Z",
     "shell.execute_reply.started": "2021-10-17T02:18:27.847724Z"
    },
    "papermill": {
     "duration": 0.027492,
     "end_time": "2021-10-17T02:19:08.438907",
     "exception": false,
     "start_time": "2021-10-17T02:19:08.411415",
     "status": "completed"
    },
    "tags": []
   },
   "outputs": [],
   "source": [
    "music_df = pd.DataFrame(df.groupby('artist_name')['popularity'].mean())"
   ]
  },
  {
   "cell_type": "code",
   "execution_count": 10,
   "id": "5a152dc0",
   "metadata": {
    "execution": {
     "iopub.execute_input": "2021-10-17T02:19:08.479728Z",
     "iopub.status.busy": "2021-10-17T02:19:08.479046Z",
     "iopub.status.idle": "2021-10-17T02:19:08.489326Z",
     "shell.execute_reply": "2021-10-17T02:19:08.489863Z",
     "shell.execute_reply.started": "2021-10-17T02:18:27.858487Z"
    },
    "papermill": {
     "duration": 0.033138,
     "end_time": "2021-10-17T02:19:08.490039",
     "exception": false,
     "start_time": "2021-10-17T02:19:08.456901",
     "status": "completed"
    },
    "tags": []
   },
   "outputs": [
    {
     "data": {
      "text/html": [
       "<div>\n",
       "<style scoped>\n",
       "    .dataframe tbody tr th:only-of-type {\n",
       "        vertical-align: middle;\n",
       "    }\n",
       "\n",
       "    .dataframe tbody tr th {\n",
       "        vertical-align: top;\n",
       "    }\n",
       "\n",
       "    .dataframe thead th {\n",
       "        text-align: right;\n",
       "    }\n",
       "</style>\n",
       "<table border=\"1\" class=\"dataframe\">\n",
       "  <thead>\n",
       "    <tr style=\"text-align: right;\">\n",
       "      <th></th>\n",
       "      <th>artist_name</th>\n",
       "      <th>popularity</th>\n",
       "      <th>num_of_ratings</th>\n",
       "    </tr>\n",
       "  </thead>\n",
       "  <tbody>\n",
       "    <tr>\n",
       "      <th>0</th>\n",
       "      <td>$uicideboy$</td>\n",
       "      <td>68.000000</td>\n",
       "      <td>2</td>\n",
       "    </tr>\n",
       "    <tr>\n",
       "      <th>1</th>\n",
       "      <td>015B</td>\n",
       "      <td>21.166667</td>\n",
       "      <td>12</td>\n",
       "    </tr>\n",
       "    <tr>\n",
       "      <th>2</th>\n",
       "      <td>03 Greedo</td>\n",
       "      <td>68.000000</td>\n",
       "      <td>1</td>\n",
       "    </tr>\n",
       "    <tr>\n",
       "      <th>3</th>\n",
       "      <td>21 Savage</td>\n",
       "      <td>77.434783</td>\n",
       "      <td>23</td>\n",
       "    </tr>\n",
       "    <tr>\n",
       "      <th>4</th>\n",
       "      <td>5 Seconds of Summer</td>\n",
       "      <td>79.000000</td>\n",
       "      <td>2</td>\n",
       "    </tr>\n",
       "  </tbody>\n",
       "</table>\n",
       "</div>"
      ],
      "text/plain": [
       "           artist_name  popularity  num_of_ratings\n",
       "0          $uicideboy$   68.000000               2\n",
       "1                 015B   21.166667              12\n",
       "2            03 Greedo   68.000000               1\n",
       "3            21 Savage   77.434783              23\n",
       "4  5 Seconds of Summer   79.000000               2"
      ]
     },
     "execution_count": 10,
     "metadata": {},
     "output_type": "execute_result"
    }
   ],
   "source": [
    "music_df['num_of_ratings'] = df.groupby('artist_name')['popularity'].count()\n",
    "music_df = music_df.reset_index()\n",
    "music_df.head()"
   ]
  },
  {
   "cell_type": "markdown",
   "id": "8f6efb38",
   "metadata": {
    "papermill": {
     "duration": 0.01841,
     "end_time": "2021-10-17T02:19:08.526407",
     "exception": false,
     "start_time": "2021-10-17T02:19:08.507997",
     "status": "completed"
    },
    "tags": []
   },
   "source": [
    "**Correlation Matrix**"
   ]
  },
  {
   "cell_type": "code",
   "execution_count": 11,
   "id": "fc6030ef",
   "metadata": {
    "execution": {
     "iopub.execute_input": "2021-10-17T02:19:08.565264Z",
     "iopub.status.busy": "2021-10-17T02:19:08.564669Z",
     "iopub.status.idle": "2021-10-17T02:19:08.573834Z",
     "shell.execute_reply": "2021-10-17T02:19:08.574306Z",
     "shell.execute_reply.started": "2021-10-17T02:18:27.879330Z"
    },
    "papermill": {
     "duration": 0.030149,
     "end_time": "2021-10-17T02:19:08.574491",
     "exception": false,
     "start_time": "2021-10-17T02:19:08.544342",
     "status": "completed"
    },
    "tags": []
   },
   "outputs": [
    {
     "data": {
      "text/html": [
       "<div>\n",
       "<style scoped>\n",
       "    .dataframe tbody tr th:only-of-type {\n",
       "        vertical-align: middle;\n",
       "    }\n",
       "\n",
       "    .dataframe tbody tr th {\n",
       "        vertical-align: top;\n",
       "    }\n",
       "\n",
       "    .dataframe thead th {\n",
       "        text-align: right;\n",
       "    }\n",
       "</style>\n",
       "<table border=\"1\" class=\"dataframe\">\n",
       "  <thead>\n",
       "    <tr style=\"text-align: right;\">\n",
       "      <th></th>\n",
       "      <th>popularity</th>\n",
       "      <th>num_of_ratings</th>\n",
       "    </tr>\n",
       "  </thead>\n",
       "  <tbody>\n",
       "    <tr>\n",
       "      <th>popularity</th>\n",
       "      <td>1.000000</td>\n",
       "      <td>0.075784</td>\n",
       "    </tr>\n",
       "    <tr>\n",
       "      <th>num_of_ratings</th>\n",
       "      <td>0.075784</td>\n",
       "      <td>1.000000</td>\n",
       "    </tr>\n",
       "  </tbody>\n",
       "</table>\n",
       "</div>"
      ],
      "text/plain": [
       "                popularity  num_of_ratings\n",
       "popularity        1.000000        0.075784\n",
       "num_of_ratings    0.075784        1.000000"
      ]
     },
     "execution_count": 11,
     "metadata": {},
     "output_type": "execute_result"
    }
   ],
   "source": [
    "music_df.corr()"
   ]
  },
  {
   "cell_type": "markdown",
   "id": "31b4b2be",
   "metadata": {
    "papermill": {
     "duration": 0.018053,
     "end_time": "2021-10-17T02:19:08.610838",
     "exception": false,
     "start_time": "2021-10-17T02:19:08.592785",
     "status": "completed"
    },
    "tags": []
   },
   "source": [
    "**Most Rated Popular Artists**"
   ]
  },
  {
   "cell_type": "code",
   "execution_count": 12,
   "id": "1bafe1d7",
   "metadata": {
    "execution": {
     "iopub.execute_input": "2021-10-17T02:19:08.652266Z",
     "iopub.status.busy": "2021-10-17T02:19:08.651664Z",
     "iopub.status.idle": "2021-10-17T02:19:08.654355Z",
     "shell.execute_reply": "2021-10-17T02:19:08.654798Z",
     "shell.execute_reply.started": "2021-10-17T02:18:27.892846Z"
    },
    "papermill": {
     "duration": 0.02597,
     "end_time": "2021-10-17T02:19:08.654968",
     "exception": false,
     "start_time": "2021-10-17T02:19:08.628998",
     "status": "completed"
    },
    "tags": []
   },
   "outputs": [],
   "source": [
    "popular_artstists_df = pd.DataFrame(music_df.sort_values('popularity', ascending=False)[:14])"
   ]
  },
  {
   "cell_type": "code",
   "execution_count": 13,
   "id": "5c32c5af",
   "metadata": {
    "execution": {
     "iopub.execute_input": "2021-10-17T02:19:08.695340Z",
     "iopub.status.busy": "2021-10-17T02:19:08.694765Z",
     "iopub.status.idle": "2021-10-17T02:19:08.699124Z",
     "shell.execute_reply": "2021-10-17T02:19:08.699705Z",
     "shell.execute_reply.started": "2021-10-17T02:18:27.906266Z"
    },
    "papermill": {
     "duration": 0.026304,
     "end_time": "2021-10-17T02:19:08.699888",
     "exception": false,
     "start_time": "2021-10-17T02:19:08.673584",
     "status": "completed"
    },
    "tags": []
   },
   "outputs": [],
   "source": [
    "popular_artstists_df = popular_artstists_df.sort_values('num_of_ratings', ascending=False)"
   ]
  },
  {
   "cell_type": "code",
   "execution_count": 14,
   "id": "ef085165",
   "metadata": {
    "execution": {
     "iopub.execute_input": "2021-10-17T02:19:08.770492Z",
     "iopub.status.busy": "2021-10-17T02:19:08.769871Z",
     "iopub.status.idle": "2021-10-17T02:19:09.087179Z",
     "shell.execute_reply": "2021-10-17T02:19:09.087698Z",
     "shell.execute_reply.started": "2021-10-17T02:18:27.914951Z"
    },
    "papermill": {
     "duration": 0.369444,
     "end_time": "2021-10-17T02:19:09.087882",
     "exception": false,
     "start_time": "2021-10-17T02:19:08.718438",
     "status": "completed"
    },
    "scrolled": true,
    "tags": []
   },
   "outputs": [
    {
     "data": {
      "text/plain": [
       "(0.0, 50.0)"
      ]
     },
     "execution_count": 14,
     "metadata": {},
     "output_type": "execute_result"
    },
    {
     "data": {
      "image/png": "[encoded data removed]",
      "text/plain": [
       "<Figure size 432x648 with 1 Axes>"
      ]
     },
     "metadata": {},
     "output_type": "display_data"
    }
   ],
   "source": [
    "plt.figure(figsize=(6,9))\n",
    "\n",
    "sns.set_style('darkgrid')\n",
    "sns.barplot(x='num_of_ratings', y='artist_name', data=popular_artstists_df,  palette='rainbow')\n",
    "\n",
    "plt.title('Most Rated Popular Artists')\n",
    "plt.xlim(0,50)\n"
   ]
  },
  {
   "cell_type": "code",
   "execution_count": null,
   "id": "3c19ac2d",
   "metadata": {
    "papermill": {
     "duration": 0.019371,
     "end_time": "2021-10-17T02:19:09.126978",
     "exception": false,
     "start_time": "2021-10-17T02:19:09.107607",
     "status": "completed"
    },
    "tags": []
   },
   "outputs": [],
   "source": []
  }
 ],
 "metadata": {
  "kernelspec": {
   "display_name": "Python 3",
   "language": "python",
   "name": "python3"
  },
  "language_info": {
   "codemirror_mode": {
    "name": "ipython",
    "version": 3
   },
   "file_extension": ".py",
   "mimetype": "text/x-python",
   "name": "python",
   "nbconvert_exporter": "python",
   "pygments_lexer": "ipython3",
   "version": "3.7.10"
  },
  "papermill": {
   "default_parameters": {},
   "duration": 11.729116,
   "end_time": "2021-10-17T02:19:10.521571",
   "environment_variables": {},
   "exception": null,
   "input_path": "__notebook__.ipynb",
   "output_path": "__notebook__.ipynb",
   "parameters": {},
   "start_time": "2021-10-17T02:18:58.792455",
   "version": "2.3.3"
  }
 },
 "nbformat": 4,
 "nbformat_minor": 5
}
